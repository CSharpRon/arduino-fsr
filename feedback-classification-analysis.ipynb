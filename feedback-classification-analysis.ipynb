{
 "metadata": {
  "language_info": {
   "codemirror_mode": {
    "name": "ipython",
    "version": 3
   },
   "file_extension": ".py",
   "mimetype": "text/x-python",
   "name": "python",
   "nbconvert_exporter": "python",
   "pygments_lexer": "ipython3",
   "version": "3.8.5-final"
  },
  "orig_nbformat": 2,
  "kernelspec": {
   "name": "python3",
   "display_name": "Python 3",
   "language": "python"
  }
 },
 "nbformat": 4,
 "nbformat_minor": 2,
 "cells": [
  {
   "source": [
    "# Feedback Classification Analysis\n",
    "*Ronald Marrero*\n",
    "---\n",
    "\n",
    "This notebook analyzes sample data from a force sensing resistor on an Arduino and the performance of several machine learning models in classifying measurements as one of four force types: [None, Low, Medium, High]\n",
    "\n",
    "\n",
    "## Data Acquisition\n",
    "Measurements for the dataset are populated from the arduino-fsr.ino module. Every second, 5 samples are taken (2 per millisecond). In addition, the known class of the measurement, the mean, and the normalized mean get generated. Each row is a comma-delimited list that gets copied from the serial monitor to a CSV file."
   ],
   "cell_type": "markdown",
   "metadata": {}
  },
  {
   "cell_type": "code",
   "execution_count": 15,
   "metadata": {},
   "outputs": [
    {
     "output_type": "execute_result",
     "data": {
      "text/plain": [
       "     Class  Sample1  Sample2  Sample3  Sample4  Sample5   Mean  TightMean\n",
       "0        0      0.0      0.0      0.0      0.0      0.0    0.0       0.00\n",
       "1        0      0.0      0.0      0.0      0.0      0.0    0.0       0.00\n",
       "2        0      0.0      0.0      0.0      0.0      0.0    0.0       0.00\n",
       "3        0      0.0      0.0      0.0      0.0      0.0    0.0       0.00\n",
       "4        0      0.0      0.0      0.0      0.0      0.0    0.0       0.00\n",
       "..     ...      ...      ...      ...      ...      ...    ...        ...\n",
       "195      3    893.0    888.0    891.0    892.0    881.0  889.0     890.33\n",
       "196      3    883.0    886.0    889.0    902.0    903.0  892.6     892.33\n",
       "197      3    908.0    911.0    912.0    909.0    878.0  903.6     909.33\n",
       "198      3    852.0    847.0    867.0    881.0    885.0  866.4     866.67\n",
       "199      3    901.0    910.0    919.0    919.0    921.0  914.0     916.00\n",
       "\n",
       "[200 rows x 8 columns]"
      ],
      "text/html": "<div>\n<style scoped>\n    .dataframe tbody tr th:only-of-type {\n        vertical-align: middle;\n    }\n\n    .dataframe tbody tr th {\n        vertical-align: top;\n    }\n\n    .dataframe thead th {\n        text-align: right;\n    }\n</style>\n<table border=\"1\" class=\"dataframe\">\n  <thead>\n    <tr style=\"text-align: right;\">\n      <th></th>\n      <th>Class</th>\n      <th>Sample1</th>\n      <th>Sample2</th>\n      <th>Sample3</th>\n      <th>Sample4</th>\n      <th>Sample5</th>\n      <th>Mean</th>\n      <th>TightMean</th>\n    </tr>\n  </thead>\n  <tbody>\n    <tr>\n      <th>0</th>\n      <td>0</td>\n      <td>0.0</td>\n      <td>0.0</td>\n      <td>0.0</td>\n      <td>0.0</td>\n      <td>0.0</td>\n      <td>0.0</td>\n      <td>0.00</td>\n    </tr>\n    <tr>\n      <th>1</th>\n      <td>0</td>\n      <td>0.0</td>\n      <td>0.0</td>\n      <td>0.0</td>\n      <td>0.0</td>\n      <td>0.0</td>\n      <td>0.0</td>\n      <td>0.00</td>\n    </tr>\n    <tr>\n      <th>2</th>\n      <td>0</td>\n      <td>0.0</td>\n      <td>0.0</td>\n      <td>0.0</td>\n      <td>0.0</td>\n      <td>0.0</td>\n      <td>0.0</td>\n      <td>0.00</td>\n    </tr>\n    <tr>\n      <th>3</th>\n      <td>0</td>\n      <td>0.0</td>\n      <td>0.0</td>\n      <td>0.0</td>\n      <td>0.0</td>\n      <td>0.0</td>\n      <td>0.0</td>\n      <td>0.00</td>\n    </tr>\n    <tr>\n      <th>4</th>\n      <td>0</td>\n      <td>0.0</td>\n      <td>0.0</td>\n      <td>0.0</td>\n      <td>0.0</td>\n      <td>0.0</td>\n      <td>0.0</td>\n      <td>0.00</td>\n    </tr>\n    <tr>\n      <th>...</th>\n      <td>...</td>\n      <td>...</td>\n      <td>...</td>\n      <td>...</td>\n      <td>...</td>\n      <td>...</td>\n      <td>...</td>\n      <td>...</td>\n    </tr>\n    <tr>\n      <th>195</th>\n      <td>3</td>\n      <td>893.0</td>\n      <td>888.0</td>\n      <td>891.0</td>\n      <td>892.0</td>\n      <td>881.0</td>\n      <td>889.0</td>\n      <td>890.33</td>\n    </tr>\n    <tr>\n      <th>196</th>\n      <td>3</td>\n      <td>883.0</td>\n      <td>886.0</td>\n      <td>889.0</td>\n      <td>902.0</td>\n      <td>903.0</td>\n      <td>892.6</td>\n      <td>892.33</td>\n    </tr>\n    <tr>\n      <th>197</th>\n      <td>3</td>\n      <td>908.0</td>\n      <td>911.0</td>\n      <td>912.0</td>\n      <td>909.0</td>\n      <td>878.0</td>\n      <td>903.6</td>\n      <td>909.33</td>\n    </tr>\n    <tr>\n      <th>198</th>\n      <td>3</td>\n      <td>852.0</td>\n      <td>847.0</td>\n      <td>867.0</td>\n      <td>881.0</td>\n      <td>885.0</td>\n      <td>866.4</td>\n      <td>866.67</td>\n    </tr>\n    <tr>\n      <th>199</th>\n      <td>3</td>\n      <td>901.0</td>\n      <td>910.0</td>\n      <td>919.0</td>\n      <td>919.0</td>\n      <td>921.0</td>\n      <td>914.0</td>\n      <td>916.00</td>\n    </tr>\n  </tbody>\n</table>\n<p>200 rows × 8 columns</p>\n</div>"
     },
     "metadata": {},
     "execution_count": 15
    }
   ],
   "source": [
    "import pandas as pd \n",
    "import numpy as np\n",
    "from sklearn.svm import SVC\n",
    "from sklearn.metrics import classification_report\n",
    "from sklearn.model_selection import train_test_split, cross_val_score\n",
    "\n",
    "measurements = pd.read_csv(\"forces-dataset.csv\")\n",
    "measurements"
   ]
  },
  {
   "cell_type": "code",
   "execution_count": 16,
   "metadata": {},
   "outputs": [
    {
     "output_type": "execute_result",
     "data": {
      "text/plain": [
       "array([0, 0, 0, 0, 0, 0, 0, 0, 0, 0, 0, 0, 0, 0, 0, 0, 0, 0, 0, 0, 0, 0,\n",
       "       0, 0, 0, 1, 1, 1, 1, 1, 1, 1, 1, 1, 1, 1, 1, 1, 1, 1, 1, 1, 1, 1,\n",
       "       1, 1, 1, 1, 1, 1, 2, 2, 2, 2, 2, 2, 2, 2, 2, 2, 2, 2, 2, 2, 2, 2,\n",
       "       2, 2, 2, 2, 2, 2, 2, 2, 2, 3, 3, 3, 3, 3, 3, 3, 3, 3, 3, 3, 3, 3,\n",
       "       3, 3, 3, 3, 3, 3, 3, 3, 3, 3, 3, 3, 0, 0, 0, 0, 0, 0, 0, 0, 0, 0,\n",
       "       0, 0, 0, 0, 0, 0, 0, 0, 0, 0, 0, 0, 0, 0, 0, 1, 1, 1, 1, 1, 1, 1,\n",
       "       1, 1, 1, 1, 1, 1, 1, 1, 1, 1, 1, 1, 1, 1, 1, 1, 1, 1, 2, 2, 2, 2,\n",
       "       2, 2, 2, 2, 2, 2, 2, 2, 2, 2, 2, 2, 2, 2, 2, 2, 2, 2, 2, 2, 2, 3,\n",
       "       3, 3, 3, 3, 3, 3, 3, 3, 3, 3, 3, 3, 3, 3, 3, 3, 3, 3, 3, 3, 3, 3,\n",
       "       3, 3])"
      ]
     },
     "metadata": {},
     "execution_count": 16
    }
   ],
   "source": [
    "Y = measurements[\"Class\"].to_numpy()\n",
    "Y"
   ]
  },
  {
   "source": [
    "## Feature Extraction\n",
    "From the data, you can see that 5 samples were taken as well as the mean and the tight mean was found by dropping the min and max in the set and then taking the mean.\n",
    "\n",
    "While the model is very accurate with 5-fold Cross Validation already, using the tight mean consistently gave better accuracy on the classification model."
   ],
   "cell_type": "markdown",
   "metadata": {}
  },
  {
   "cell_type": "code",
   "execution_count": 17,
   "metadata": {},
   "outputs": [
    {
     "output_type": "stream",
     "name": "stdout",
     "text": [
      "SVM on mean data: 0.97 accuracy with a standard deviation of 0.03\nSVM on tight mean data: 0.98 accuracy with a standard deviation of 0.02\n"
     ]
    }
   ],
   "source": [
    "svclassifier = SVC(kernel=\"linear\")\n",
    "\n",
    "# Using just the mean from 5 samples\n",
    "X_mean = measurements[\"Mean\"].to_numpy()\n",
    "X_mean = X_mean.reshape(-1, 1)\n",
    "x_train, x_test, y_train, y_test = train_test_split(\n",
    "    X_mean, Y, test_size=0.20\n",
    ")\n",
    "svclassifier.fit(x_train, y_train)\n",
    "scores_mean = cross_val_score(svclassifier, X_mean, Y, cv=5)\n",
    "print(\"SVM on mean data: %0.2f accuracy with a standard deviation of %0.2f\" % (scores_mean.mean(), scores_mean.std()))\n",
    "\n",
    "# Using the means where min and max are removed\n",
    "X_tight = measurements[\"TightMean\"].to_numpy()\n",
    "X_tight = X_tight.reshape(-1, 1)\n",
    "x_train, x_test, y_train, y_test = train_test_split(\n",
    "    X_tight, Y, test_size=0.20\n",
    ")\n",
    "svclassifier.fit(x_train, y_train)\n",
    "scores_tight = cross_val_score(svclassifier, X_tight, Y, cv=5)\n",
    "print(\"SVM on tight mean data: %0.2f accuracy with a standard deviation of %0.2f\" % (scores_tight.mean(), scores_tight.std()))"
   ]
  },
  {
   "source": [
    "## Comparing Classification Models\n",
    "The above tests have been using a linear SVM classifier. Here is a closer look at the different SVM implementations, K Nearest Neighbors, and Linear Regression:\n"
   ],
   "cell_type": "markdown",
   "metadata": {}
  },
  {
   "cell_type": "code",
   "execution_count": 19,
   "metadata": {},
   "outputs": [
    {
     "output_type": "stream",
     "name": "stdout",
     "text": [
      "SVM linear on tight mean data: 0.98 accuracy with a standard deviation of 0.02\nSVM poly on tight mean data: 0.77 accuracy with a standard deviation of 0.03\nSVM rbf on tight mean data: 0.94 accuracy with a standard deviation of 0.05\nKNN on tight mean data: 0.94 accuracy with a standard deviation of 0.05\n"
     ]
    }
   ],
   "source": [
    "from sklearn.neighbors import KNeighborsClassifier\n",
    "from sklearn.linear_model import LinearRegression\n",
    "\n",
    "# SVM\n",
    "for kernel in [\"linear\",\"poly\",\"rbf\"]:\n",
    "    clf = SVC(kernel=kernel)\n",
    "    clf.fit(x_train, y_train)\n",
    "    scores = cross_val_score(clf, X_tight, Y, cv=5)\n",
    "    print(\"SVM %s on tight mean data: %0.2f accuracy with a standard deviation of %0.2f\" % (kernel, scores.mean(), scores.std()))\n",
    "\n",
    "# K Nearest Neighbors\n",
    "knn = KNeighborsClassifier(n_neighbors=5)\n",
    "knn.fit(x_train, y_train)\n",
    "scores_knn = cross_val_score(clf, X_tight, Y, cv=5)\n",
    "print(\"KNN on tight mean data: %0.2f accuracy with a standard deviation of %0.2f\" % (scores_knn.mean(), scores_knn.std()))"
   ]
  },
  {
   "cell_type": "code",
   "execution_count": null,
   "metadata": {},
   "outputs": [],
   "source": []
  }
 ]
}